{
 "cells": [
  {
   "cell_type": "code",
   "execution_count": 3,
   "metadata": {
    "collapsed": true
   },
   "outputs": [],
   "source": [
    "import pymysql\n",
    "\n",
    "import findspark\n",
    "import pyspark\n",
    "from pyspark.sql import SparkSession\n",
    "\n",
    "\n",
    "from pyspark.ml.recommendation import ALS\n",
    "\n",
    "from pyspark.ml.evaluation import RegressionEvaluator\n",
    "\n",
    "from pyspark.sql import SQLContext\n",
    "from pyspark import SparkContext, SparkConf\n",
    "import numpy as np\n",
    "\n",
    "import os\n",
    "import sys\n",
    "import pickle\n",
    "import itertools\n",
    "from math import sqrt\n",
    "from operator import add\n",
    "from os.path import join, isfile, dirname\n",
    "from pyspark import SparkContext, SparkConf, SQLContext\n",
    "from pyspark.sql.types import StructType, StructField, StringType, FloatType"
   ]
  },
  {
   "cell_type": "code",
   "execution_count": 4,
   "metadata": {
    "collapsed": true
   },
   "outputs": [],
   "source": [
    "findspark.init(\"/usr/lib/spark\")\n",
    "\n",
    "#spark = SparkSession.builder.appName('final').getOrCreate()\n"
   ]
  },
  {
   "cell_type": "code",
   "execution_count": 1,
   "metadata": {},
   "outputs": [],
   "source": [
    "spark"
   ]
  },
  {
   "cell_type": "code",
   "execution_count": 6,
   "metadata": {},
   "outputs": [
    {
     "name": "stdout",
     "output_type": "stream",
     "text": [
      "(('rating',), ('test',))\n",
      "((0, 0, 0), (1, 2, 4), (1, 29, 4), (1, 32, 4), (1, 47, 4), (1, 50, 4))\n"
     ]
    },
    {
     "data": {
      "text/plain": [
       "tuple"
      ]
     },
     "execution_count": 6,
     "metadata": {},
     "output_type": "execute_result"
    }
   ],
   "source": [
    "#mysql --host=104.154.165.159 --user=root --password=1111\n",
    "host ='104.154.165.159'\n",
    "user = 'root'\n",
    "passwd = '1111'\n",
    "db = 'spark'\n",
    "db = pymysql.connect(host=host, port=3306, user=user, passwd=passwd, db=db)\n",
    "cur = db.cursor()\n",
    "\n",
    "\n",
    "cur.execute('show tables')\n",
    "result = cur.fetchall()\n",
    "print(result)\n",
    "\n",
    "\n",
    "cur.execute('use spark')\n",
    "cur.execute('select userId, movieId,rating from rating limit 6')\n",
    "result = cur.fetchall()\n",
    "print(result)\n",
    "type(result)"
   ]
  },
  {
   "cell_type": "markdown",
   "metadata": {},
   "source": [
    "cur.execute('create table test (movieId int,imdbId int,rating int,tmdbId int) ')\n"
   ]
  },
  {
   "cell_type": "code",
   "execution_count": 7,
   "metadata": {
    "collapsed": true
   },
   "outputs": [],
   "source": [
    "conf = SparkConf().setAppName('final')\n",
    "sc = SparkContext(conf=conf)\n",
    "sqlContext = SQLContext(sc)"
   ]
  },
  {
   "cell_type": "code",
   "execution_count": null,
   "metadata": {
    "collapsed": true
   },
   "outputs": [],
   "source": [
    "query = \"(select * from rating limit) as tmp \""
   ]
  },
  {
   "cell_type": "code",
   "execution_count": null,
   "metadata": {
    "collapsed": true
   },
   "outputs": [],
   "source": [
    "sqlContext.read.format(\"jdbc\").options(\n",
    "url =\"jdbc:mysql://104.154.165.159:3306/spark\",\n",
    "driver=\"com.mysql.jdbc.Driver\",\n",
    "dbtable='test',\n",
    "user=\"root\",\n",
    "password=\"1111\"\n",
    ").load().take(5)"
   ]
  },
  {
   "cell_type": "code",
   "execution_count": null,
   "metadata": {
    "collapsed": true
   },
   "outputs": [],
   "source": [
    "sc."
   ]
  }
 ],
 "metadata": {
  "kernelspec": {
   "display_name": "Python 3",
   "language": "python",
   "name": "python3"
  },
  "language_info": {
   "codemirror_mode": {
    "name": "ipython",
    "version": 3
   },
   "file_extension": ".py",
   "mimetype": "text/x-python",
   "name": "python",
   "nbconvert_exporter": "python",
   "pygments_lexer": "ipython3",
   "version": "3.6.1"
  }
 },
 "nbformat": 4,
 "nbformat_minor": 2
}
