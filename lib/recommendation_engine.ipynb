{
 "cells": [
  {
   "cell_type": "code",
   "execution_count": 1,
   "metadata": {
    "collapsed": false
   },
   "outputs": [],
   "source": [
    "# data_process is used to generate raw data and perform feature engineering with the data\n",
    "#%run data_process\n",
    "%run recommendation_engine_func.ipynb"
   ]
  },
  {
   "cell_type": "code",
   "execution_count": 2,
   "metadata": {
    "collapsed": false
   },
   "outputs": [
    {
     "name": "stdout",
     "output_type": "stream",
     "text": [
      "3.5.2 |Anaconda 4.2.0 (x86_64)| (default, Jul  2 2016, 17:52:12) \n",
      "[GCC 4.2.1 Compatible Apple LLVM 4.2 (clang-425.0.28)]\n",
      "/Users/zishuoli/Downloads/bigdata/final\n"
     ]
    }
   ],
   "source": [
    "import sys,os\n",
    "print(sys.version)\n",
    "print(os.getcwd())"
   ]
  },
  {
   "cell_type": "code",
   "execution_count": 3,
   "metadata": {
    "collapsed": false
   },
   "outputs": [
    {
     "name": "stderr",
     "output_type": "stream",
     "text": [
      "Using TensorFlow backend.\n"
     ]
    }
   ],
   "source": [
    "'''import basic package'''\n",
    "import pandas as pd\n",
    "import numpy as np\n",
    "\n",
    "\n",
    "'''import deep learning package'''\n",
    "import keras as k\n",
    "import tensorflow as tf\n",
    "\n",
    "\n",
    "import requests\n",
    "import json\n",
    "\n",
    "from IPython.display import Image\n",
    "from IPython.display import display\n",
    "from IPython.display import HTML\n",
    "\n",
    "import urllib.request\n",
    "\n",
    "from keras.applications import VGG16\n",
    "from keras.applications.vgg16 import preprocess_input\n",
    "from keras.preprocessing import image as kimage\n"
   ]
  },
  {
   "cell_type": "markdown",
   "metadata": {},
   "source": [
    "# Spark ALS recommendation\n"
   ]
  },
  {
   "cell_type": "code",
   "execution_count": 4,
   "metadata": {
    "collapsed": false
   },
   "outputs": [],
   "source": [
    "import findspark\n",
    "findspark.init('/usr/local/Cellar/spark-2.2.0-bin-hadoop2.7')\n",
    "\n",
    "from pyspark import SparkContext\n",
    "from pyspark import SparkConf\n",
    "from pyspark.sql import SQLContext\n",
    "\n",
    "from pyspark.sql.functions import sqrt\n",
    "\n",
    "from pyspark.sql import SparkSession\n",
    "from pyspark.mllib.recommendation import ALS,MatrixFactorizationModel,Rating"
   ]
  },
  {
   "cell_type": "code",
   "execution_count": 5,
   "metadata": {
    "collapsed": true
   },
   "outputs": [],
   "source": [
    "spark = SparkSession.builder.appName('final2').getOrCreate()\n",
    "\n",
    "data = spark.read.csv('file:/Users/zishuoli/Downloads/bigdata/final/ml-latest-small/ratings.csv', inferSchema=True, header=True)"
   ]
  },
  {
   "cell_type": "code",
   "execution_count": 6,
   "metadata": {
    "collapsed": false
   },
   "outputs": [],
   "source": [
    "data.createOrReplaceTempView(\"test\")\n",
    "  \n",
    "test = spark.sql('select * from test')\n",
    "#test.show()"
   ]
  },
  {
   "cell_type": "code",
   "execution_count": 7,
   "metadata": {
    "collapsed": false
   },
   "outputs": [],
   "source": [
    "data = data.select('userID','movieID','rating')"
   ]
  },
  {
   "cell_type": "code",
   "execution_count": 8,
   "metadata": {
    "collapsed": false
   },
   "outputs": [
    {
     "name": "stdout",
     "output_type": "stream",
     "text": [
      "70054\n",
      "29950\n",
      "Row(userID=1, movieID=1029, rating=3.0)\n"
     ]
    },
    {
     "data": {
      "text/plain": [
       "DataFrame[userID: int, movieID: int, rating: double]"
      ]
     },
     "execution_count": 8,
     "metadata": {},
     "output_type": "execute_result"
    }
   ],
   "source": [
    "train,test = data.randomSplit([0.7,0.3])\n",
    "print(train.count())\n",
    "print(test.count())\n",
    "print(train.first())\n",
    "\n",
    "test.cache()\n",
    "train.cache()"
   ]
  },
  {
   "cell_type": "code",
   "execution_count": 9,
   "metadata": {
    "collapsed": false
   },
   "outputs": [
    {
     "data": {
      "text/plain": [
       "(8,\n",
       " array('d', [-0.20483286678791046, 1.2477695941925049, 1.7491360902786255, -1.2875621318817139, 1.133804202079773]))"
      ]
     },
     "execution_count": 9,
     "metadata": {},
     "output_type": "execute_result"
    }
   ],
   "source": [
    "rank = 5\n",
    "numIterations = 10\n",
    "model = ALS.train(train,rank,numIterations)\n",
    "model.productFeatures().first()\n"
   ]
  },
  {
   "cell_type": "code",
   "execution_count": 10,
   "metadata": {
    "collapsed": false
   },
   "outputs": [
    {
     "data": {
      "text/plain": [
       "(8,\n",
       " array('d', [0.8400859832763672, -0.07768601179122925, 0.6594439744949341, -0.3243723213672638, 0.2536373436450958]))"
      ]
     },
     "execution_count": 10,
     "metadata": {},
     "output_type": "execute_result"
    }
   ],
   "source": [
    "model.userFeatures().first()"
   ]
  },
  {
   "cell_type": "code",
   "execution_count": 11,
   "metadata": {
    "collapsed": false
   },
   "outputs": [
    {
     "data": {
      "text/plain": [
       "[Rating(user=410, product=196, rating=6.515625528623293),\n",
       " Rating(user=629, product=196, rating=5.130644749494991),\n",
       " Rating(user=64, product=196, rating=5.121751434768452),\n",
       " Rating(user=637, product=196, rating=4.9002622976553845),\n",
       " Rating(user=568, product=196, rating=4.893850575123901)]"
      ]
     },
     "execution_count": 11,
     "metadata": {},
     "output_type": "execute_result"
    }
   ],
   "source": [
    "model.recommendUsers(196,5)"
   ]
  },
  {
   "cell_type": "code",
   "execution_count": 12,
   "metadata": {
    "collapsed": false
   },
   "outputs": [
    {
     "data": {
      "text/plain": [
       "1.4348849990353671"
      ]
     },
     "execution_count": 12,
     "metadata": {},
     "output_type": "execute_result"
    }
   ],
   "source": [
    "model.predict(310,196)"
   ]
  },
  {
   "cell_type": "code",
   "execution_count": 13,
   "metadata": {
    "collapsed": false
   },
   "outputs": [],
   "source": [
    "pred_input = train.select('userID','movieID').rdd\n",
    "pred = model.predictAll(pred_input).toDF().select('rating')\n",
    "\n",
    "true_pred = train.select('rating')"
   ]
  },
  {
   "cell_type": "code",
   "execution_count": 14,
   "metadata": {
    "collapsed": false
   },
   "outputs": [
    {
     "name": "stdout",
     "output_type": "stream",
     "text": [
      "+------+\n",
      "|rating|\n",
      "+------+\n",
      "|   3.0|\n",
      "|   2.0|\n",
      "|   4.0|\n",
      "|   2.0|\n",
      "|   3.5|\n",
      "+------+\n",
      "only showing top 5 rows\n",
      "\n"
     ]
    }
   ],
   "source": [
    "true_pred.show(5)"
   ]
  },
  {
   "cell_type": "code",
   "execution_count": 15,
   "metadata": {
    "collapsed": false
   },
   "outputs": [
    {
     "name": "stdout",
     "output_type": "stream",
     "text": [
      "+------------------+\n",
      "|            rating|\n",
      "+------------------+\n",
      "|1.0100425916594689|\n",
      "|0.5180380794721712|\n",
      "|4.4712503343485235|\n",
      "| 5.120519493745328|\n",
      "|3.0472310917624505|\n",
      "+------------------+\n",
      "only showing top 5 rows\n",
      "\n"
     ]
    }
   ],
   "source": [
    "pred.show(5)"
   ]
  },
  {
   "cell_type": "code",
   "execution_count": 16,
   "metadata": {
    "collapsed": false
   },
   "outputs": [
    {
     "name": "stdout",
     "output_type": "stream",
     "text": [
      "3.1024184115\n"
     ]
    }
   ],
   "source": [
    "mse = true_pred.subtract(pred).rdd.map(lambda x:x[0]**2).mean()\n",
    "mse = np.sqrt(mse)\n",
    "print(mse)"
   ]
  },
  {
   "cell_type": "code",
   "execution_count": 17,
   "metadata": {
    "collapsed": false
   },
   "outputs": [
    {
     "name": "stdout",
     "output_type": "stream",
     "text": [
      "3.1024184115\n"
     ]
    }
   ],
   "source": [
    "test_input = test.select('userId','movieId').rdd\n",
    "pred_test = model.predictAll(test_input).toDF().select('rating')\n",
    "true_pred_test = test.select('rating')\n",
    " \n",
    "mse_test = true_pred_test.subtract(pred_test).rdd.map(lambda x:x[0]**2).mean()\n",
    "mse_test = np.sqrt(mse_test)\n",
    "print(mse_test)"
   ]
  },
  {
   "cell_type": "markdown",
   "metadata": {},
   "source": [
    "# data loading & preprocess "
   ]
  },
  {
   "cell_type": "code",
   "execution_count": 18,
   "metadata": {
    "collapsed": false
   },
   "outputs": [],
   "source": [
    "rating_matrix = np.load('rating_matrix.npy')\n",
    "movieId_vs_tmdbId = np.load('movieId_vs_tmdbId.npy').item()"
   ]
  },
  {
   "cell_type": "code",
   "execution_count": 19,
   "metadata": {
    "collapsed": false
   },
   "outputs": [
    {
     "name": "stdout",
     "output_type": "stream",
     "text": [
      "similarity user matrix shape: (671, 671)\n",
      "similarity movie matrix shape: (9000, 9000)\n"
     ]
    }
   ],
   "source": [
    "similarity_user = cosine_similarity_matrix(rating_matrix)\n",
    "print('similarity user matrix shape:',similarity_user.shape)\n",
    "similarity_movie = cosine_similarity_matrix(rating_matrix.T)\n",
    "print('similarity movie matrix shape:',similarity_movie.shape)\n"
   ]
  },
  {
   "cell_type": "markdown",
   "metadata": {},
   "source": [
    "# 1. SVD Recommendation Part\n",
    "## target at rating "
   ]
  },
  {
   "cell_type": "code",
   "execution_count": 20,
   "metadata": {
    "collapsed": false
   },
   "outputs": [
    {
     "data": {
      "text/html": [
       "<img style='width: 100px; margin: 0px;                 float: left; border: 1px solid black;' src='https://image.tmdb.org/t/p/w500/yPisjyLweCl1tbgwgtzBCNCBle.jpg' /><img style='width: 100px; margin: 0px;                 float: left; border: 1px solid black;' src='https://image.tmdb.org/t/p/w500/pyEkyYgtyjOX1R9EYyUcgbK1sTn.jpg' /><img style='width: 100px; margin: 0px;                 float: left; border: 1px solid black;' src='https://image.tmdb.org/t/p/w500/bWFQadzdVWsHZOlGcJzILvdGZbQ.jpg' /><img style='width: 100px; margin: 0px;                 float: left; border: 1px solid black;' src='https://image.tmdb.org/t/p/w500/y19uRkAHXOHLeySuBVMqnvVnsrA.jpg' /><img style='width: 100px; margin: 0px;                 float: left; border: 1px solid black;' src='https://image.tmdb.org/t/p/w500/6VsRWzhx9i3FNcggVrNwYLMUdxa.jpg' />"
      ],
      "text/plain": [
       "<IPython.core.display.HTML object>"
      ]
     },
     "metadata": {},
     "output_type": "display_data"
    }
   ],
   "source": [
    "items, items_rating = svd_recommend(rating_matrix,movieId_vs_tmdbId,5)\n",
    "\n",
    "target_id = 8\n",
    "movie_list_svd = items[target_id]\n",
    "url_list_svd = [get_poster(x) for x in movie_list_svd]\n",
    "\n",
    "display_images(url_list_svd)"
   ]
  },
  {
   "cell_type": "markdown",
   "metadata": {},
   "source": [
    "\n",
    "# 2. Cosine similarity recommendation part"
   ]
  },
  {
   "cell_type": "markdown",
   "metadata": {},
   "source": [
    "## 2.1user to user similarity recommendation result"
   ]
  },
  {
   "cell_type": "code",
   "execution_count": 21,
   "metadata": {
    "collapsed": true
   },
   "outputs": [],
   "source": [
    "movie_list_user = pred_similarity_user(similarity_user,rating_matrix,movieId_vs_tmdbId,n=5)"
   ]
  },
  {
   "cell_type": "code",
   "execution_count": 22,
   "metadata": {
    "collapsed": false
   },
   "outputs": [
    {
     "data": {
      "text/html": [
       "<img style='width: 100px; margin: 0px;                 float: left; border: 1px solid black;' src='https://image.tmdb.org/t/p/w500/y5Jee3QmYOlpqfaPPbfvtdVc5wj.jpg' /><img style='width: 100px; margin: 0px;                 float: left; border: 1px solid black;' src='https://image.tmdb.org/t/p/w500/s7n0rS2Ff85SuSpqYG3ndkmdQf4.jpg' /><img style='width: 100px; margin: 0px;                 float: left; border: 1px solid black;' src='https://image.tmdb.org/t/p/w500/zqUFRgbHec3zEMI8jqzau5jYn8Z.jpg' /><img style='width: 100px; margin: 0px;                 float: left; border: 1px solid black;' src='https://image.tmdb.org/t/p/w500/2eBKtBVObRfd85nUbS0nLhhpayR.jpg' /><img style='width: 100px; margin: 0px;                 float: left; border: 1px solid black;' src='https://image.tmdb.org/t/p/w500/cDqEv4Fw4JZh2zCfecqw3z09L8z.jpg' />"
      ],
      "text/plain": [
       "<IPython.core.display.HTML object>"
      ]
     },
     "metadata": {},
     "output_type": "display_data"
    }
   ],
   "source": [
    "target_id = 0\n",
    "movie_list_user = movie_list_user[target_id]\n",
    "url_list_user = [get_poster(x) for x in movie_list_user]\n",
    "\n",
    "display_images(url_list_user)\n"
   ]
  },
  {
   "cell_type": "markdown",
   "metadata": {},
   "source": [
    "## 2.2 item to item similarity recommendation result"
   ]
  },
  {
   "cell_type": "code",
   "execution_count": 23,
   "metadata": {
    "collapsed": true
   },
   "outputs": [],
   "source": [
    "movie_list_item = pred_similarity_item(similarity_movie,rating_matrix,movieId_vs_tmdbId,n = 5)"
   ]
  },
  {
   "cell_type": "code",
   "execution_count": 24,
   "metadata": {
    "collapsed": false
   },
   "outputs": [
    {
     "data": {
      "text/html": [
       "<img style='width: 100px; margin: 0px;                 float: left; border: 1px solid black;' src='https://image.tmdb.org/t/p/w500/rhIRbceoE9lR4veEXuwCC2wARtG.jpg' /><img style='width: 100px; margin: 0px;                 float: left; border: 1px solid black;' src='https://image.tmdb.org/t/p/w500/3CmK3XurcLeUyMifCR28ibzupbB.jpg' /><img style='width: 100px; margin: 0px;                 float: left; border: 1px solid black;' src='https://image.tmdb.org/t/p/w500/btTdmkgIvOi0FFip1sPuZI2oQG6.jpg' /><img style='width: 100px; margin: 0px;                 float: left; border: 1px solid black;' src='https://image.tmdb.org/t/p/w500/yE5d3BUhE8hCnkMUJOo1QDoOGNz.jpg' /><img style='width: 100px; margin: 0px;                 float: left; border: 1px solid black;' src='https://image.tmdb.org/t/p/w500/bqLlWZJdhrS0knfEJRkquW7L8z2.jpg' />"
      ],
      "text/plain": [
       "<IPython.core.display.HTML object>"
      ]
     },
     "metadata": {},
     "output_type": "display_data"
    }
   ],
   "source": [
    "target_id = 0\n",
    "movie_list_item = movie_list_item[target_id]\n",
    "\n",
    "url_list_item = [get_poster(x) for x in movie_list_item]\n",
    "display_images(url_list_item)"
   ]
  },
  {
   "cell_type": "markdown",
   "metadata": {},
   "source": [
    "# 3. Deep Learning Part"
   ]
  },
  {
   "cell_type": "code",
   "execution_count": 25,
   "metadata": {
    "collapsed": false
   },
   "outputs": [],
   "source": [
    "feature_matrix = np.load('feature_matrix.npy')\n",
    "movie_list_dl  = np.load('movie_list.npy')\n",
    "similarity_movie_dl = cosine_similarity_matrix(feature_matrix)"
   ]
  },
  {
   "cell_type": "code",
   "execution_count": 26,
   "metadata": {
    "collapsed": false
   },
   "outputs": [
    {
     "data": {
      "text/html": [
       "<img style='width: 100px; margin: 0px;                 float: left; border: 1px solid black;' src='https://image.tmdb.org/t/p/w500/4saVIltqkhq9is5NmD7N87Q40M.jpg' /><img style='width: 100px; margin: 0px;                 float: left; border: 1px solid black;' src='https://image.tmdb.org/t/p/w500/3eHIyNW0MqTsQtijfuFeGUXlH4m.jpg' /><img style='width: 100px; margin: 0px;                 float: left; border: 1px solid black;' src='https://image.tmdb.org/t/p/w500/aAmfIX3TT40zUHGcCKrlOZRKC7u.jpg' /><img style='width: 100px; margin: 0px;                 float: left; border: 1px solid black;' src='https://image.tmdb.org/t/p/w500/1KFa2Mzzn2DMlC95eJwRYgRsHI.jpg' /><img style='width: 100px; margin: 0px;                 float: left; border: 1px solid black;' src='https://image.tmdb.org/t/p/w500/8x0WrDcFQDC2eoXJe6iC34wXZE8.jpg' /><img style='width: 100px; margin: 0px;                 float: left; border: 1px solid black;' src='https://image.tmdb.org/t/p/w500/sqL1X8InstIQralJt78tW3yX9zj.jpg' />"
      ],
      "text/plain": [
       "<IPython.core.display.HTML object>"
      ]
     },
     "metadata": {},
     "output_type": "display_data"
    }
   ],
   "source": [
    "target_id = 4\n",
    "show_result(similarity_movie_dl,movieId_vs_tmdbId,movie_list_dl,target_id=target_id,n=5)"
   ]
  },
  {
   "cell_type": "code",
   "execution_count": 27,
   "metadata": {
    "collapsed": false
   },
   "outputs": [
    {
     "data": {
      "text/html": [
       "<img style='width: 100px; margin: 0px;                 float: left; border: 1px solid black;' src='https://image.tmdb.org/t/p/w500/hOJeQXve8W9rNRhdgC1WV3GQJyA.jpg' /><img style='width: 100px; margin: 0px;                 float: left; border: 1px solid black;' src='https://image.tmdb.org/t/p/w500/gs3fFBoiEaExy5x3m5yAQpmVhXs.jpg' /><img style='width: 100px; margin: 0px;                 float: left; border: 1px solid black;' src='https://image.tmdb.org/t/p/w500/ls7KPoxNiy3IcAot3QB0oFuMtdW.jpg' /><img style='width: 100px; margin: 0px;                 float: left; border: 1px solid black;' src='https://image.tmdb.org/t/p/w500/v4Jz1ALH2LdIrpr681WVIsYbRQL.jpg' /><img style='width: 100px; margin: 0px;                 float: left; border: 1px solid black;' src='https://image.tmdb.org/t/p/w500/drp80fBSWhz0vAmzUibXDyn0Pjo.jpg' /><img style='width: 100px; margin: 0px;                 float: left; border: 1px solid black;' src='https://image.tmdb.org/t/p/w500/ajmYYt8KGXn8a7Boew0D6VvlN5q.jpg' />"
      ],
      "text/plain": [
       "<IPython.core.display.HTML object>"
      ]
     },
     "metadata": {},
     "output_type": "display_data"
    }
   ],
   "source": [
    "target_id = 666\n",
    "show_result(similarity_movie_dl,movieId_vs_tmdbId,movie_list_dl,target_id=target_id,n=5)"
   ]
  },
  {
   "cell_type": "code",
   "execution_count": 28,
   "metadata": {
    "collapsed": false
   },
   "outputs": [
    {
     "data": {
      "text/html": [
       "<img style='width: 100px; margin: 0px;                 float: left; border: 1px solid black;' src='https://image.tmdb.org/t/p/w500/eJ71YFS6FkwNmz4yGZE7zpHLfHo.jpg' /><img style='width: 100px; margin: 0px;                 float: left; border: 1px solid black;' src='https://image.tmdb.org/t/p/w500/ole3u0jx0AuNxrtHRIQOTzBgDBl.jpg' /><img style='width: 100px; margin: 0px;                 float: left; border: 1px solid black;' src='https://image.tmdb.org/t/p/w500/nXXI1MCJ0ugMetJ5Qn7ofDXANxf.jpg' /><img style='width: 100px; margin: 0px;                 float: left; border: 1px solid black;' src='https://image.tmdb.org/t/p/w500/eeWX3tCcQFnC3ZZQuFhWV1Ctypj.jpg' /><img style='width: 100px; margin: 0px;                 float: left; border: 1px solid black;' src='https://image.tmdb.org/t/p/w500/hRmlR78pLtquyFc7swwsvjqigkc.jpg' /><img style='width: 100px; margin: 0px;                 float: left; border: 1px solid black;' src='https://image.tmdb.org/t/p/w500/qCs0Vc3QhyqRSDLCDinOai5CVT5.jpg' />"
      ],
      "text/plain": [
       "<IPython.core.display.HTML object>"
      ]
     },
     "metadata": {},
     "output_type": "display_data"
    }
   ],
   "source": [
    "target_id = 333\n",
    "show_result(similarity_movie_dl,movieId_vs_tmdbId,movie_list_dl,target_id=target_id,n=5)"
   ]
  },
  {
   "cell_type": "code",
   "execution_count": 31,
   "metadata": {
    "collapsed": false
   },
   "outputs": [
    {
     "data": {
      "text/html": [
       "<img style='width: 100px; margin: 0px;                 float: left; border: 1px solid black;' src='https://image.tmdb.org/t/p/w500/1Mf4nGHpEuR7oVIFW8iLdHS0lKX.jpg' /><img style='width: 100px; margin: 0px;                 float: left; border: 1px solid black;' src='https://image.tmdb.org/t/p/w500/lJM6ihKdiVAJs3bbQ3JJjVwg1wC.jpg' /><img style='width: 100px; margin: 0px;                 float: left; border: 1px solid black;' src='https://image.tmdb.org/t/p/w500/uHglTUmLm77lWiOwqm8HE43MPGa.jpg' /><img style='width: 100px; margin: 0px;                 float: left; border: 1px solid black;' src='https://image.tmdb.org/t/p/w500/z9OvNNScSKyKp2LNIc2tGgN0z9k.jpg' /><img style='width: 100px; margin: 0px;                 float: left; border: 1px solid black;' src='https://image.tmdb.org/t/p/w500/oP5Nmo3LqWurCtpI485qYjGtulm.jpg' /><img style='width: 100px; margin: 0px;                 float: left; border: 1px solid black;' src='https://image.tmdb.org/t/p/w500/btZeyuVPpD8jtsf5E2rEzLl6C4C.jpg' />"
      ],
      "text/plain": [
       "<IPython.core.display.HTML object>"
      ]
     },
     "metadata": {},
     "output_type": "display_data"
    }
   ],
   "source": [
    "target_id = 345\n",
    "show_result(similarity_movie_dl,movieId_vs_tmdbId,movie_list_dl,target_id=target_id,n=5)"
   ]
  },
  {
   "cell_type": "code",
   "execution_count": 30,
   "metadata": {
    "collapsed": false
   },
   "outputs": [
    {
     "data": {
      "text/html": [
       "<img style='width: 100px; margin: 0px;                 float: left; border: 1px solid black;' src='https://image.tmdb.org/t/p/w500/b4mYjC8kKx32BnCNBQeDCA76WBd.jpg' /><img style='width: 100px; margin: 0px;                 float: left; border: 1px solid black;' src='https://image.tmdb.org/t/p/w500/wcG2PA66Fbv2l7r0n59x1nuB5fd.jpg' /><img style='width: 100px; margin: 0px;                 float: left; border: 1px solid black;' src='https://image.tmdb.org/t/p/w500/u0YrGkpjL5H190qqEsQavZ2WrV5.jpg' /><img style='width: 100px; margin: 0px;                 float: left; border: 1px solid black;' src='https://image.tmdb.org/t/p/w500/zaisXz8RRIqRy0Tnw20q7whKuM8.jpg' /><img style='width: 100px; margin: 0px;                 float: left; border: 1px solid black;' src='https://image.tmdb.org/t/p/w500/4g8AMbqh4evHQwI1td63TH5cZTb.jpg' /><img style='width: 100px; margin: 0px;                 float: left; border: 1px solid black;' src='https://image.tmdb.org/t/p/w500/ezNF5WT3eRbEXUwtPa5Z8RVBUxi.jpg' />"
      ],
      "text/plain": [
       "<IPython.core.display.HTML object>"
      ]
     },
     "metadata": {},
     "output_type": "display_data"
    }
   ],
   "source": [
    "target_id = 7\n",
    "show_result(similarity_movie_dl,movieId_vs_tmdbId,movie_list_dl,target_id=target_id,n=5)"
   ]
  },
  {
   "cell_type": "code",
   "execution_count": null,
   "metadata": {
    "collapsed": true
   },
   "outputs": [],
   "source": []
  }
 ],
 "metadata": {
  "anaconda-cloud": {},
  "kernelspec": {
   "display_name": "Python [conda root]",
   "language": "python",
   "name": "conda-root-py"
  },
  "language_info": {
   "codemirror_mode": {
    "name": "ipython",
    "version": 3
   },
   "file_extension": ".py",
   "mimetype": "text/x-python",
   "name": "python",
   "nbconvert_exporter": "python",
   "pygments_lexer": "ipython3",
   "version": "3.5.2"
  }
 },
 "nbformat": 4,
 "nbformat_minor": 1
}
