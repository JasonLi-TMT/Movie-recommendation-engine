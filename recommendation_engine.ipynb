{
 "cells": [
  {
   "cell_type": "code",
   "execution_count": 1,
   "metadata": {
    "collapsed": false
   },
   "outputs": [
    {
     "name": "stdout",
     "output_type": "stream",
     "text": [
      "3.5.2 |Anaconda 4.2.0 (x86_64)| (default, Jul  2 2016, 17:52:12) \n",
      "[GCC 4.2.1 Compatible Apple LLVM 4.2 (clang-425.0.28)]\n",
      "/Users/zishuoli/Downloads/bigdata/final\n"
     ]
    }
   ],
   "source": [
    "import sys,os\n",
    "print(sys.version)\n",
    "print(os.getcwd())"
   ]
  },
  {
   "cell_type": "code",
   "execution_count": 2,
   "metadata": {
    "collapsed": false
   },
   "outputs": [
    {
     "name": "stderr",
     "output_type": "stream",
     "text": [
      "Using TensorFlow backend.\n"
     ]
    }
   ],
   "source": [
    "'''import basic package'''\n",
    "import pandas as pd\n",
    "import numpy as np\n",
    "\n",
    "\n",
    "'''import deep learning package'''\n",
    "import keras as k\n",
    "import tensorflow as tf\n",
    "\n",
    "\n",
    "import requests\n",
    "import json\n",
    "\n",
    "from IPython.display import Image\n",
    "from IPython.display import display\n",
    "from IPython.display import HTML\n"
   ]
  },
  {
   "cell_type": "code",
   "execution_count": 3,
   "metadata": {
    "collapsed": false
   },
   "outputs": [
    {
     "name": "stdout",
     "output_type": "stream",
     "text": [
      "   userId  movieId  rating   timestamp  imdbId  tmdbId\n",
      "0       1       31     2.5  1260759144  112792  9909.0\n",
      "1       7       31     3.0   851868750  112792  9909.0\n",
      "2      31       31     4.0  1273541953  112792  9909.0\n",
      "3      32       31     4.0   834828440  112792  9909.0\n",
      "4      36       31     3.0   847057202  112792  9909.0\n",
      "(100004, 6)\n"
     ]
    }
   ],
   "source": [
    "rating_df = pd.read_csv('ml-latest-small/ratings.csv')\n",
    "linkes_df = pd.read_csv('ml-latest-small/links.csv')\n",
    "\n",
    "df_merged = pd.merge(rating_df,linkes_df,on=['movieId'])\n",
    "print(df_merged.head())\n",
    "print(df_merged.shape)"
   ]
  },
  {
   "cell_type": "code",
   "execution_count": 4,
   "metadata": {
    "collapsed": false
   },
   "outputs": [
    {
     "name": "stdout",
     "output_type": "stream",
     "text": [
      "(671, 9000)\n"
     ]
    }
   ],
   "source": [
    "rating_matrix_dim = [len(df_merged.userId.unique()),max(df_merged.movieId)]\n",
    "\n",
    "rating_matrix = np.zeros(rating_matrix_dim)\n",
    "\n",
    "\n",
    "for row in df_merged.itertuples():\n",
    "    try:\n",
    "        rating_matrix[row[1]-1, row[2]-1] = row[3]\n",
    "    except:\n",
    "        continue\n",
    "rating_matrix = rating_matrix[:,:9000]\n",
    "\n",
    "print(rating_matrix.shape)"
   ]
  },
  {
   "cell_type": "code",
   "execution_count": 5,
   "metadata": {
    "collapsed": false
   },
   "outputs": [],
   "source": [
    "'''\n",
    "split train & test\n",
    "'''\n",
    "train_matrix = rating_matrix.copy()\n",
    "test_matrix = np.zeros(rating_matrix.shape)\n",
    "\n",
    "for i in range(rating_matrix.shape[0]):\n",
    "    rating_idx = np.random.choice(\n",
    "        rating_matrix[i, :].nonzero()[0], \n",
    "        size=10, \n",
    "        replace=True)\n",
    "    train_matrix[i, rating_idx] = 0.0\n",
    "    test_matrix[i, rating_idx] = rating_matrix[i, rating_idx]\n"
   ]
  },
  {
   "cell_type": "code",
   "execution_count": 6,
   "metadata": {
    "collapsed": true
   },
   "outputs": [],
   "source": [
    "def cosine_similarity_matrix(data):\n",
    "    '''\n",
    "    calculate cosine similarity for user & item\n",
    "    \n",
    "    default: user is in row, item in column\n",
    "    ''' \n",
    "    dim = data.shape\n",
    "    \n",
    "    constant = tf.constant(1e-9,dtype=tf.float32)\n",
    "\n",
    "    df = tf.placeholder(shape=[dim[0],dim[1]],dtype=tf.float32)\n",
    "\n",
    "    similar_user = tf.matmul(df,tf.transpose(df)) + constant\n",
    "\n",
    "    norm_user = tf.reshape(tf.sqrt(tf.diag_part(similar_user)),[-1,1])\n",
    "\n",
    "    norm_user_matrix = tf.matmul(norm_user,tf.transpose(norm_user))\n",
    "\n",
    "    similar_user = similar_user/norm_user_matrix\n",
    "\n",
    "\n",
    "    with tf.Session() as sess:\n",
    "        ans = sess.run(similar_user,feed_dict={df:data})\n",
    "\n",
    "    return ans\n"
   ]
  },
  {
   "cell_type": "code",
   "execution_count": 7,
   "metadata": {
    "collapsed": false
   },
   "outputs": [
    {
     "name": "stdout",
     "output_type": "stream",
     "text": [
      "similarity user matrix shape: (671, 671)\n",
      "similarity movie matrix shape: (9000, 9000)\n"
     ]
    }
   ],
   "source": [
    "similarity_user = cosine_similarity_matrix(train_matrix)\n",
    "print('similarity user matrix shape:',similarity_user.shape)\n",
    "similarity_movie = cosine_similarity_matrix(train_matrix.T)\n",
    "print('similarity movie matrix shape:',similarity_movie.shape)\n"
   ]
  },
  {
   "cell_type": "code",
   "execution_count": 8,
   "metadata": {
    "collapsed": false
   },
   "outputs": [],
   "source": [
    "def prediction_(similarity_matrix,rating_matrix):\n",
    "    '''default we think df row is user, column is id'''\n",
    "    similarity_matrix = tf.convert_to_tensor(similarity_matrix,dtype=tf.float32)\n",
    "    rating_matrix = tf.convert_to_tensor(rating_matrix,dtype=tf.float32)\n",
    "    \n",
    "    numerator = tf.matmul(similarity_matrix,rating_matrix)\n",
    "    \n",
    "    denominator = tf.reduce_sum(tf.abs(similarity_matrix),axis=0)\n",
    "    denominator = tf.reshape(denominator,shape=[-1,1])\n",
    "\n",
    "    ans = numerator/denominator\n",
    "    \n",
    "    with tf.Session() as sess:\n",
    "        return sess.run(ans)\n",
    "    \n",
    "\n",
    "def error(prediction,real_value):\n",
    "    \n",
    "    prediction = tf.convert_to_tensor(prediction)\n",
    "    real_value = tf.convert_to_tensor(real_value)\n",
    "    \n",
    "    ans = tf.losses.mean_squared_error(predictions=prediction,labels=real_value)\n",
    "    with tf.Session() as sess:\n",
    "        return sess.run(ans)"
   ]
  },
  {
   "cell_type": "code",
   "execution_count": 9,
   "metadata": {
    "collapsed": false
   },
   "outputs": [
    {
     "name": "stdout",
     "output_type": "stream",
     "text": [
      "real_value: [ 2.   4.   2.  ...,  5.   3.   4.5]\n",
      "prediction: [ 0.9263624   0.81012529  0.79657292 ...,  1.98036313  0.4275431\n",
      "  0.44862014]\n"
     ]
    }
   ],
   "source": [
    "prediction = prediction_(similarity_user,rating_matrix)\n",
    "prediction = prediction[test_matrix.nonzero()].flatten()\n",
    "test_vector = test_matrix[test_matrix.nonzero()].flatten()\n",
    "print('real_value:',test_vector)\n",
    "print('prediction:',prediction)"
   ]
  },
  {
   "cell_type": "code",
   "execution_count": 10,
   "metadata": {
    "collapsed": false
   },
   "outputs": [
    {
     "name": "stdout",
     "output_type": "stream",
     "text": [
      "mse for prediction using cosine similarity 8.98062\n"
     ]
    }
   ],
   "source": [
    "mse = error(prediction=prediction,real_value=test_vector)\n",
    "print('mse for prediction using cosine similarity',mse)"
   ]
  },
  {
   "cell_type": "code",
   "execution_count": 12,
   "metadata": {
    "collapsed": false
   },
   "outputs": [],
   "source": [
    "api_key = 'api_key=b1ab9a6e9622fe27f6dd2a81065224fc'\n",
    "\n",
    "def get_poster(TMDB_id,api_key=api_key):\n",
    "    \n",
    "    url_full = 'https://api.themoviedb.org/3/movie/'+ str(TMDB_id)+'?'+str(api_key)\n",
    "    url_content = requests.get(url_full)\n",
    "    url_content = url_content.text\n",
    "    post_ip = json.loads(url_content)['poster_path']\n",
    "    post_ip_complete = 'https://image.tmdb.org/t/p/w500'+ post_ip\n",
    "    \n",
    "    return post_ip_complete"
   ]
  },
  {
   "cell_type": "code",
   "execution_count": 26,
   "metadata": {
    "collapsed": false
   },
   "outputs": [],
   "source": [
    "'''built a map between movieId and tmdbID'''\n",
    "movieId_vs_tmdbId = {}\n",
    "\n",
    "for row in df_merged[['movieId','tmdbId']].itertuples():    \n",
    "    try:\n",
    "        movieId_vs_tmdbId[str(int(row[1]-1))] = int(row[2])\n",
    "    except:\n",
    "        continue"
   ]
  },
  {
   "cell_type": "code",
   "execution_count": 86,
   "metadata": {
    "collapsed": false
   },
   "outputs": [],
   "source": [
    "def similar_select(similarity_matrix,movieId_vs_tmdbId='',n=5,target_id=0):\n",
    "\n",
    "    movies = [ movieId_vs_tmdbId[str(x)] \\\n",
    "          for x in np.argsort(similarity_matrix[target_id,:])[:-n-1:-1] ] \n",
    "\n",
    "    return movies\n",
    "\n",
    "def display_images(url_list):\n",
    "    n_display = len(url_list)\n",
    "    images = ''\n",
    "    for i in range(n_display):\n",
    "        images += \"<img style='width: 100px; margin: 0px; \\\n",
    "                float: left; border: 1px solid black;' src='%s' />\" \\\n",
    "                % url_list[i]\n",
    "\n",
    "    display(HTML(images)) \n",
    "\n"
   ]
  },
  {
   "cell_type": "code",
   "execution_count": 17,
   "metadata": {
    "collapsed": false
   },
   "outputs": [
    {
     "data": {
      "text/html": [
       "<img style='width: 100px; margin: 0px;                 float: left; border: 1px solid black;' src='https://image.tmdb.org/t/p/w500/rhIRbceoE9lR4veEXuwCC2wARtG.jpg' /><img style='width: 100px; margin: 0px;                 float: left; border: 1px solid black;' src='https://image.tmdb.org/t/p/w500/3CmK3XurcLeUyMifCR28ibzupbB.jpg' /><img style='width: 100px; margin: 0px;                 float: left; border: 1px solid black;' src='https://image.tmdb.org/t/p/w500/vXjVd0Vu0MXRZnga7wEnHIIhO5B.jpg' /><img style='width: 100px; margin: 0px;                 float: left; border: 1px solid black;' src='https://image.tmdb.org/t/p/w500/btTdmkgIvOi0FFip1sPuZI2oQG6.jpg' /><img style='width: 100px; margin: 0px;                 float: left; border: 1px solid black;' src='https://image.tmdb.org/t/p/w500/yE5d3BUhE8hCnkMUJOo1QDoOGNz.jpg' />"
      ],
      "text/plain": [
       "<IPython.core.display.HTML object>"
      ]
     },
     "metadata": {},
     "output_type": "display_data"
    }
   ],
   "source": [
    "movie_list = similar_select(similarity_movie,movieId_vs_tmdbId)\n",
    "url_list = [get_poster(x) for x in movie_list]\n",
    "\n",
    "display_images(url_list)"
   ]
  },
  {
   "cell_type": "markdown",
   "metadata": {},
   "source": [
    "# Deep Learning Part"
   ]
  },
  {
   "cell_type": "code",
   "execution_count": 18,
   "metadata": {
    "collapsed": false
   },
   "outputs": [],
   "source": [
    "\n",
    "import urllib.request\n",
    "\n",
    "\n",
    "from keras.applications import VGG16\n",
    "from keras.applications.vgg16 import preprocess_input\n",
    "from keras.preprocessing import image as kimage\n"
   ]
  },
  {
   "cell_type": "code",
   "execution_count": 27,
   "metadata": {
    "collapsed": false
   },
   "outputs": [
    {
     "name": "stdout",
     "output_type": "stream",
     "text": [
      "tmdb movie id : 58423 is not available\n",
      "tmdb movie id : 110414 is not available\n",
      "tmdb movie id : 370646 is not available\n",
      "tmdb movie id : 156078 is not available\n",
      "tmdb movie id : 17882 is not available\n",
      "tmdb movie id : 374454 is not available\n",
      "tmdb movie id : 253941 is not available\n",
      "tmdb movie id : 13057 is not available\n",
      "tmdb movie id : 205300 is not available\n",
      "tmdb movie id : 244797 is not available\n",
      "tmdb movie id : 61920 is not available\n",
      "tmdb movie id : 68149 is not available\n",
      "tmdb movie id : 53285 is not available\n",
      "tmdb movie id : 206216 is not available\n",
      "tmdb movie id : 314040 is not available\n",
      "tmdb movie id : 13716 is not available\n",
      "tmdb movie id : 53803 is not available\n",
      "tmdb movie id : 110639 is not available\n",
      "tmdb movie id : 191903 is not available\n",
      "tmdb movie id : 147538 is not available\n",
      "tmdb movie id : 2518 is not available\n",
      "tmdb movie id : 253768 is not available\n",
      "tmdb movie id : 416437 is not available\n",
      "tmdb movie id : 12773 is not available\n",
      "tmdb movie id : 67479 is not available\n",
      "tmdb movie id : 55146 is not available\n",
      "tmdb movie id : 185441 is not available\n",
      "tmdb movie id : 410612 is not available\n",
      "tmdb movie id : 225130 is not available\n",
      "tmdb movie id : 2670 is not available\n",
      "tmdb movie id : 164721 is not available\n"
     ]
    }
   ],
   "source": [
    "'''this cell just run one time to download all posters'''\n",
    "# poster_path = \"/Users/zishuoli/Downloads/bigdata/final/posters/\"\n",
    "\n",
    "movie_list = []\n",
    "# item in movie list is tmdb id\n",
    "for i in movieId_vs_tmdbId.values():\n",
    "    try:\n",
    "        poster_url = get_poster(i)\n",
    "        # download poster jpg to poster_path\n",
    "        urllib.request.urlretrieve(poster_url, poster_path + str(int(i)) + \".jpg\")\n",
    "        movie_list.append(i)\n",
    "    except:\n",
    "        print('tmdb movie id :',str(i),'is not available')\n",
    "        continue\n"
   ]
  },
  {
   "cell_type": "code",
   "execution_count": 29,
   "metadata": {
    "collapsed": false
   },
   "outputs": [],
   "source": [
    "\n",
    "'''transfer learning'''\n",
    "img = []\n",
    "\n",
    "poster_path = \"/Users/zishuoli/Downloads/bigdata/final/posters/\"\n",
    "\n",
    "for i in movie_list:\n",
    "    tmp = kimage.load_img(poster_path + str(i) + \".jpg\", target_size=(224, 224))\n",
    "    tmp = kimage.img_to_array(tmp)\n",
    "    tmp = np.expand_dims(tmp, axis=0)\n",
    "    tmp = preprocess_input(tmp)   \n",
    "    \n",
    "    img.append(tmp)\n",
    "    \n",
    "# image_top=False removes final connected layers   \n",
    "model = VGG16(include_top=False, weights='imagenet')"
   ]
  },
  {
   "cell_type": "code",
   "execution_count": 34,
   "metadata": {
    "collapsed": true
   },
   "outputs": [],
   "source": [
    "movie_num = len(movie_list)\n",
    "\n",
    "feature_matrix = np.zeros([movie_num,25088])\n",
    "\n",
    "for i in range(movie_num):\n",
    "    tmp = model.predict(img[i]).ravel()\n",
    "    feature_matrix[i,:] = tmp"
   ]
  },
  {
   "cell_type": "code",
   "execution_count": 48,
   "metadata": {
    "collapsed": true
   },
   "outputs": [],
   "source": [
    "similarity_movie = cosine_similarity_matrix(feature_matrix)"
   ]
  },
  {
   "cell_type": "code",
   "execution_count": 88,
   "metadata": {
    "collapsed": false
   },
   "outputs": [],
   "source": [
    "\n",
    "def show_result(similarity_matrix,target_id = 0,n = 5):\n",
    "        \n",
    "    movie_selected_id = [x for x in np.argsort(similarity_movie[target_id,:])[-n-1:]]\n",
    "\n",
    "    movie_selected = [movie_list[i] for i in movie_selected_id]\n",
    "\n",
    "    url_list = [get_poster(x) for x in movie_selected]\n",
    "    get_poster(movie_selected[0])\n",
    "    display_images(url_list)"
   ]
  },
  {
   "cell_type": "code",
   "execution_count": 94,
   "metadata": {
    "collapsed": false
   },
   "outputs": [
    {
     "data": {
      "text/html": [
       "<img style='width: 100px; margin: 0px;                 float: left; border: 1px solid black;' src='https://image.tmdb.org/t/p/w500/b4mYjC8kKx32BnCNBQeDCA76WBd.jpg' /><img style='width: 100px; margin: 0px;                 float: left; border: 1px solid black;' src='https://image.tmdb.org/t/p/w500/wcG2PA66Fbv2l7r0n59x1nuB5fd.jpg' /><img style='width: 100px; margin: 0px;                 float: left; border: 1px solid black;' src='https://image.tmdb.org/t/p/w500/u0YrGkpjL5H190qqEsQavZ2WrV5.jpg' /><img style='width: 100px; margin: 0px;                 float: left; border: 1px solid black;' src='https://image.tmdb.org/t/p/w500/zaisXz8RRIqRy0Tnw20q7whKuM8.jpg' /><img style='width: 100px; margin: 0px;                 float: left; border: 1px solid black;' src='https://image.tmdb.org/t/p/w500/4g8AMbqh4evHQwI1td63TH5cZTb.jpg' /><img style='width: 100px; margin: 0px;                 float: left; border: 1px solid black;' src='https://image.tmdb.org/t/p/w500/ezNF5WT3eRbEXUwtPa5Z8RVBUxi.jpg' />"
      ],
      "text/plain": [
       "<IPython.core.display.HTML object>"
      ]
     },
     "metadata": {},
     "output_type": "display_data"
    }
   ],
   "source": [
    "show_result(similarity_movie,7)\n"
   ]
  }
 ],
 "metadata": {
  "anaconda-cloud": {},
  "kernelspec": {
   "display_name": "Python [conda root]",
   "language": "python",
   "name": "conda-root-py"
  },
  "language_info": {
   "codemirror_mode": {
    "name": "ipython",
    "version": 3
   },
   "file_extension": ".py",
   "mimetype": "text/x-python",
   "name": "python",
   "nbconvert_exporter": "python",
   "pygments_lexer": "ipython3",
   "version": "3.5.2"
  }
 },
 "nbformat": 4,
 "nbformat_minor": 1
}
